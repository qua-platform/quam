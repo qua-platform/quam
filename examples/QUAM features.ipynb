{
  "cells": [
    {
      "cell_type": "markdown",
      "metadata": {},
      "source": [
        "# QUAM Demonstration"
      ]
    },
    {
      "cell_type": "code",
      "execution_count": 1,
      "metadata": {},
      "outputs": [
        {
          "name": "stdout",
          "output_type": "stream",
          "text": [
            "2025-08-14 10:20:55,761 - qm - INFO     - Starting session: 5fe8a800-c986-4b12-940b-a1fdf3f09c08\n"
          ]
        }
      ],
      "source": [
        "import json\n",
        "from quam.components import *\n",
        "from quam.examples.superconducting_qubits import *\n",
        "\n",
        "from pathlib import Path\n",
        "root_folder = Path(\"./output\")\n",
        "root_folder.mkdir(exist_ok=True)\n",
        "for key in [\"basic\", \"referenced\", \"referenced_multifile\"]:\n",
        "    (root_folder / key).mkdir(exist_ok=True)"
      ]
    },
    {
      "cell_type": "markdown",
      "metadata": {},
      "source": [
        "## Creating QUAM from Scratch"
      ]
    },
    {
      "cell_type": "markdown",
      "metadata": {},
      "source": [
        "The user defines his own QUAM by inheriting from `QuamRoot` (see `components/quam.py`).\n",
        "Once defined, it can be instantiated as follows:"
      ]
    },
    {
      "cell_type": "code",
      "execution_count": 2,
      "metadata": {},
      "outputs": [
        {
          "data": {
            "text/plain": [
              "Quam(qubits={}, wiring={})"
            ]
          },
          "execution_count": 2,
          "metadata": {},
          "output_type": "execute_result"
        }
      ],
      "source": [
        "machine = Quam()\n",
        "machine"
      ]
    },
    {
      "cell_type": "markdown",
      "metadata": {},
      "source": [
        "We see that five attributes are defined in quam, all empty so far. We can begin populating it with different `QuamComponent`s"
      ]
    },
    {
      "cell_type": "code",
      "execution_count": 3,
      "metadata": {},
      "outputs": [
        {
          "name": "stdout",
          "output_type": "stream",
          "text": [
            "QUAM:\n",
            "  qubits: QuamDict\n",
            "    q0: Transmon\n",
            "      id: 0\n",
            "      xy: IQChannel\n",
            "        operations: QuamDict Empty\n",
            "        id: None\n",
            "        digital_outputs: QuamDict Empty\n",
            "        sticky: None\n",
            "        intermediate_frequency: 100000000.0\n",
            "        thread: None\n",
            "        core: None\n",
            "        LO_frequency: \"#./frequency_converter_up/LO_frequency\"\n",
            "        RF_frequency: \"#./inferred_RF_frequency\"\n",
            "        opx_output_I: ('con1', 3)\n",
            "        opx_output_Q: ('con1', 4)\n",
            "        opx_output_offset_I: None\n",
            "        opx_output_offset_Q: None\n",
            "        frequency_converter_up: FrequencyConverter\n",
            "          local_oscillator: LocalOscillator\n",
            "            frequency: 6000000000.0\n",
            "            power: 10\n",
            "          mixer: Mixer\n",
            "            local_oscillator_frequency: \"#../local_oscillator/frequency\"\n",
            "            intermediate_frequency: \"#../../intermediate_frequency\"\n",
            "            correction_gain: 0\n",
            "            correction_phase: 0\n",
            "          gain: None\n",
            "      z: SingleChannel\n",
            "        operations: QuamDict Empty\n",
            "        id: None\n",
            "        digital_outputs: QuamDict Empty\n",
            "        sticky: None\n",
            "        intermediate_frequency: None\n",
            "        thread: None\n",
            "        core: None\n",
            "        opx_output: ('con1', 5)\n",
            "        filter_fir_taps: None\n",
            "        filter_iir_taps: None\n",
            "        opx_output_offset: None\n",
            "      resonator: InOutIQChannel\n",
            "        operations: QuamDict Empty\n",
            "        id: 0\n",
            "        digital_outputs: QuamDict Empty\n",
            "        sticky: None\n",
            "        intermediate_frequency: None\n",
            "        thread: None\n",
            "        core: None\n",
            "        opx_input_I: ('con1', 1)\n",
            "        opx_input_Q: ('con1', 2)\n",
            "        time_of_flight: 140\n",
            "        smearing: 0\n",
            "        opx_input_offset_I: None\n",
            "        opx_input_offset_Q: None\n",
            "        input_gain: None\n",
            "        frequency_converter_down: None\n",
            "        LO_frequency: \"#./frequency_converter_up/LO_frequency\"\n",
            "        RF_frequency: \"#./inferred_RF_frequency\"\n",
            "        opx_output_I: ('con1', 1)\n",
            "        opx_output_Q: ('con1', 2)\n",
            "        opx_output_offset_I: None\n",
            "        opx_output_offset_Q: None\n",
            "        frequency_converter_up: FrequencyConverter\n",
            "          local_oscillator: LocalOscillator\n",
            "            frequency: 6000000000.0\n",
            "            power: 10\n",
            "          mixer: Mixer\n",
            "            local_oscillator_frequency: \"#../local_oscillator/frequency\"\n",
            "            intermediate_frequency: \"#../../intermediate_frequency\"\n",
            "            correction_gain: 0\n",
            "            correction_phase: 0\n",
            "          gain: None\n",
            "    q1: Transmon\n",
            "      id: 1\n",
            "      xy: IQChannel\n",
            "        operations: QuamDict Empty\n",
            "        id: None\n",
            "        digital_outputs: QuamDict Empty\n",
            "        sticky: None\n",
            "        intermediate_frequency: 100000000.0\n",
            "        thread: None\n",
            "        core: None\n",
            "        LO_frequency: \"#./frequency_converter_up/LO_frequency\"\n",
            "        RF_frequency: \"#./inferred_RF_frequency\"\n",
            "        opx_output_I: ('con1', 6)\n",
            "        opx_output_Q: ('con1', 7)\n",
            "        opx_output_offset_I: None\n",
            "        opx_output_offset_Q: None\n",
            "        frequency_converter_up: FrequencyConverter\n",
            "          local_oscillator: LocalOscillator\n",
            "            frequency: 6000000000.0\n",
            "            power: 10\n",
            "          mixer: Mixer\n",
            "            local_oscillator_frequency: \"#../local_oscillator/frequency\"\n",
            "            intermediate_frequency: \"#../../intermediate_frequency\"\n",
            "            correction_gain: 0\n",
            "            correction_phase: 0\n",
            "          gain: None\n",
            "      z: SingleChannel\n",
            "        operations: QuamDict Empty\n",
            "        id: None\n",
            "        digital_outputs: QuamDict Empty\n",
            "        sticky: None\n",
            "        intermediate_frequency: None\n",
            "        thread: None\n",
            "        core: None\n",
            "        opx_output: ('con1', 8)\n",
            "        filter_fir_taps: None\n",
            "        filter_iir_taps: None\n",
            "        opx_output_offset: None\n",
            "      resonator: InOutIQChannel\n",
            "        operations: QuamDict Empty\n",
            "        id: 1\n",
            "        digital_outputs: QuamDict Empty\n",
            "        sticky: None\n",
            "        intermediate_frequency: None\n",
            "        thread: None\n",
            "        core: None\n",
            "        opx_input_I: ('con1', 1)\n",
            "        opx_input_Q: ('con1', 2)\n",
            "        time_of_flight: 140\n",
            "        smearing: 0\n",
            "        opx_input_offset_I: None\n",
            "        opx_input_offset_Q: None\n",
            "        input_gain: None\n",
            "        frequency_converter_down: None\n",
            "        LO_frequency: \"#./frequency_converter_up/LO_frequency\"\n",
            "        RF_frequency: \"#./inferred_RF_frequency\"\n",
            "        opx_output_I: ('con1', 4)\n",
            "        opx_output_Q: ('con1', 5)\n",
            "        opx_output_offset_I: None\n",
            "        opx_output_offset_Q: None\n",
            "        frequency_converter_up: FrequencyConverter\n",
            "          local_oscillator: LocalOscillator\n",
            "            frequency: 6000000000.0\n",
            "            power: 10\n",
            "          mixer: Mixer\n",
            "            local_oscillator_frequency: \"#../local_oscillator/frequency\"\n",
            "            intermediate_frequency: \"#../../intermediate_frequency\"\n",
            "            correction_gain: 0\n",
            "            correction_phase: 0\n",
            "          gain: None\n",
            "  wiring: QuamDict Empty\n"
          ]
        }
      ],
      "source": [
        "num_qubits = 2\n",
        "for idx in range(num_qubits):\n",
        "    # Create qubit components\n",
        "    transmon = Transmon(\n",
        "        id=idx,\n",
        "        xy=IQChannel(\n",
        "            opx_output_I=(\"con1\", 3 * idx + 3),\n",
        "            opx_output_Q=(\"con1\", 3 * idx + 4),\n",
        "            frequency_converter_up=FrequencyConverter(\n",
        "                mixer=Mixer(),\n",
        "                local_oscillator=LocalOscillator(power=10, frequency=6e9),\n",
        "            ),\n",
        "            intermediate_frequency=100e6,\n",
        "        ),\n",
        "        z=SingleChannel(opx_output=(\"con1\", 3 * idx + 5)),\n",
        "    )\n",
        "    machine.qubits[transmon.name] = transmon\n",
        "    readout_resonator = InOutIQChannel(\n",
        "        id=idx,\n",
        "        opx_output_I=(\"con1\", 3 * idx + 1),\n",
        "        opx_output_Q=(\"con1\", 3 * idx + 2),\n",
        "        opx_input_I=(\"con1\", 1),\n",
        "        opx_input_Q=(\"con1\", 2,),\n",
        "        frequency_converter_up=FrequencyConverter(\n",
        "            mixer=Mixer(), local_oscillator=LocalOscillator(power=10, frequency=6e9)\n",
        "        ),\n",
        "    )\n",
        "    transmon.resonator = readout_resonator\n",
        "\n",
        "machine.print_summary()"
      ]
    },
    {
      "cell_type": "markdown",
      "metadata": {},
      "source": [
        "A summary of QUAM can be shown using `machine.print_summary()`"
      ]
    },
    {
      "cell_type": "markdown",
      "metadata": {},
      "source": [
        "## Saving and Loading QUAM"
      ]
    },
    {
      "cell_type": "markdown",
      "metadata": {},
      "source": [
        "We can then save quam to a json file:"
      ]
    },
    {
      "cell_type": "code",
      "execution_count": 4,
      "metadata": {},
      "outputs": [],
      "source": [
        "machine.save(root_folder / \"basic\" / \"state.json\")"
      ]
    },
    {
      "cell_type": "markdown",
      "metadata": {},
      "source": [
        "Finally, we can also load quam from the same json file"
      ]
    },
    {
      "cell_type": "code",
      "execution_count": 5,
      "metadata": {},
      "outputs": [],
      "source": [
        "loaded_quam = Quam.load(root_folder / \"basic\" / \"state.json\")"
      ]
    },
    {
      "cell_type": "markdown",
      "metadata": {},
      "source": [
        "Importantly, the `state.json` file only describes how QUAM is structured, and how the different QUAM components should be initialized. The components themselves are defined in their respective classes."
      ]
    },
    {
      "cell_type": "markdown",
      "metadata": {},
      "source": [
        "## Generating QUA Configuration"
      ]
    },
    {
      "cell_type": "markdown",
      "metadata": {},
      "source": [
        "We can also generate the qua config from quam. This recursively calls `QuamComponent.apply_to_config()` on all quam components."
      ]
    },
    {
      "cell_type": "code",
      "execution_count": 6,
      "metadata": {},
      "outputs": [],
      "source": [
        "qua_config = machine.generate_config()\n",
        "json.dump(qua_config, open(root_folder / \"basic\" / \"qua_config.json\", \"w\"), indent=2)"
      ]
    },
    {
      "cell_type": "code",
      "execution_count": 7,
      "metadata": {},
      "outputs": [
        {
          "data": {
            "text/plain": [
              "PosixPath('output/basic/qua_config.json')"
            ]
          },
          "execution_count": 7,
          "metadata": {},
          "output_type": "execute_result"
        }
      ],
      "source": [
        "root_folder / \"basic\" / \"qua_config.json\""
      ]
    },
    {
      "cell_type": "markdown",
      "metadata": {},
      "source": [
        "## QUAM Using References"
      ]
    },
    {
      "cell_type": "markdown",
      "metadata": {},
      "source": [
        "QUAM allows values to reference another part of QUAM by setting its value to a string starting with a colon: `\"#/path/to/referenced/value\"`.\n",
        "\n",
        "As an example why this is useful, we previously hardcoded all output ports. However, grouping everything at a top-level `\"wiring\"`` makes more sense, so we can have all output ports reference to it.\n",
        "\n",
        "Below we also add several more references"
      ]
    },
    {
      "cell_type": "code",
      "execution_count": 8,
      "metadata": {},
      "outputs": [
        {
          "name": "stdout",
          "output_type": "stream",
          "text": [
            "QUAM:\n",
            "  qubits: QuamDict\n",
            "    q0: Transmon\n",
            "      id: 0\n",
            "      xy: IQChannel\n",
            "        operations: QuamDict Empty\n",
            "        id: None\n",
            "        digital_outputs: QuamDict Empty\n",
            "        sticky: None\n",
            "        intermediate_frequency: 100000000.0\n",
            "        thread: None\n",
            "        core: None\n",
            "        LO_frequency: \"#./frequency_converter_up/LO_frequency\"\n",
            "        RF_frequency: \"#./inferred_RF_frequency\"\n",
            "        opx_output_I: \"#/wiring/qubits/q0/port_I\"\n",
            "        opx_output_Q: \"#/wiring/qubits/q0/port_Q\"\n",
            "        opx_output_offset_I: None\n",
            "        opx_output_offset_Q: None\n",
            "        frequency_converter_up: FrequencyConverter\n",
            "          local_oscillator: LocalOscillator\n",
            "            frequency: 6000000000.0\n",
            "            power: 10\n",
            "          mixer: Mixer\n",
            "            local_oscillator_frequency: \"#../local_oscillator/frequency\"\n",
            "            intermediate_frequency: \"#../../intermediate_frequency\"\n",
            "            correction_gain: 0\n",
            "            correction_phase: 0\n",
            "          gain: None\n",
            "      z: SingleChannel\n",
            "        operations: QuamDict Empty\n",
            "        id: None\n",
            "        digital_outputs: QuamDict Empty\n",
            "        sticky: None\n",
            "        intermediate_frequency: None\n",
            "        thread: None\n",
            "        core: None\n",
            "        opx_output: \"#/wiring/qubits/q0/port_Z\"\n",
            "        filter_fir_taps: None\n",
            "        filter_iir_taps: None\n",
            "        opx_output_offset: None\n",
            "      resonator: InOutIQChannel\n",
            "        operations: QuamDict Empty\n",
            "        id: 0\n",
            "        digital_outputs: QuamDict Empty\n",
            "        sticky: None\n",
            "        intermediate_frequency: None\n",
            "        thread: None\n",
            "        core: None\n",
            "        opx_input_I: \"#/wiring/feedline/opx_input_I\"\n",
            "        opx_input_Q: \"#/wiring/feedline/opx_input_Q\"\n",
            "        time_of_flight: 140\n",
            "        smearing: 0\n",
            "        opx_input_offset_I: None\n",
            "        opx_input_offset_Q: None\n",
            "        input_gain: None\n",
            "        frequency_converter_down: None\n",
            "        LO_frequency: \"#./frequency_converter_up/LO_frequency\"\n",
            "        RF_frequency: \"#./inferred_RF_frequency\"\n",
            "        opx_output_I: \"#/wiring/feedline/opx_output_I\"\n",
            "        opx_output_Q: \"#/wiring/feedline/opx_output_Q\"\n",
            "        opx_output_offset_I: None\n",
            "        opx_output_offset_Q: None\n",
            "        frequency_converter_up: FrequencyConverter\n",
            "          local_oscillator: LocalOscillator\n",
            "            frequency: 6000000000.0\n",
            "            power: 10\n",
            "          mixer: Mixer\n",
            "            local_oscillator_frequency: \"#../local_oscillator/frequency\"\n",
            "            intermediate_frequency: \"#../../intermediate_frequency\"\n",
            "            correction_gain: 0\n",
            "            correction_phase: 0\n",
            "          gain: None\n",
            "    q1: Transmon\n",
            "      id: 1\n",
            "      xy: IQChannel\n",
            "        operations: QuamDict Empty\n",
            "        id: None\n",
            "        digital_outputs: QuamDict Empty\n",
            "        sticky: None\n",
            "        intermediate_frequency: 100000000.0\n",
            "        thread: None\n",
            "        core: None\n",
            "        LO_frequency: \"#./frequency_converter_up/LO_frequency\"\n",
            "        RF_frequency: \"#./inferred_RF_frequency\"\n",
            "        opx_output_I: \"#/wiring/qubits/q1/port_I\"\n",
            "        opx_output_Q: \"#/wiring/qubits/q1/port_Q\"\n",
            "        opx_output_offset_I: None\n",
            "        opx_output_offset_Q: None\n",
            "        frequency_converter_up: FrequencyConverter\n",
            "          local_oscillator: LocalOscillator\n",
            "            frequency: 6000000000.0\n",
            "            power: 10\n",
            "          mixer: Mixer\n",
            "            local_oscillator_frequency: \"#../local_oscillator/frequency\"\n",
            "            intermediate_frequency: \"#../../intermediate_frequency\"\n",
            "            correction_gain: 0\n",
            "            correction_phase: 0\n",
            "          gain: None\n",
            "      z: SingleChannel\n",
            "        operations: QuamDict Empty\n",
            "        id: None\n",
            "        digital_outputs: QuamDict Empty\n",
            "        sticky: None\n",
            "        intermediate_frequency: None\n",
            "        thread: None\n",
            "        core: None\n",
            "        opx_output: \"#/wiring/qubits/q1/port_Z\"\n",
            "        filter_fir_taps: None\n",
            "        filter_iir_taps: None\n",
            "        opx_output_offset: None\n",
            "      resonator: InOutIQChannel\n",
            "        operations: QuamDict Empty\n",
            "        id: 1\n",
            "        digital_outputs: QuamDict Empty\n",
            "        sticky: None\n",
            "        intermediate_frequency: None\n",
            "        thread: None\n",
            "        core: None\n",
            "        opx_input_I: \"#/wiring/feedline/opx_input_I\"\n",
            "        opx_input_Q: \"#/wiring/feedline/opx_input_Q\"\n",
            "        time_of_flight: 140\n",
            "        smearing: 0\n",
            "        opx_input_offset_I: None\n",
            "        opx_input_offset_Q: None\n",
            "        input_gain: None\n",
            "        frequency_converter_down: None\n",
            "        LO_frequency: \"#./frequency_converter_up/LO_frequency\"\n",
            "        RF_frequency: \"#./inferred_RF_frequency\"\n",
            "        opx_output_I: \"#/wiring/feedline/opx_output_I\"\n",
            "        opx_output_Q: \"#/wiring/feedline/opx_output_Q\"\n",
            "        opx_output_offset_I: None\n",
            "        opx_output_offset_Q: None\n",
            "        frequency_converter_up: FrequencyConverter\n",
            "          local_oscillator: LocalOscillator\n",
            "            frequency: 6000000000.0\n",
            "            power: 10\n",
            "          mixer: Mixer\n",
            "            local_oscillator_frequency: \"#../local_oscillator/frequency\"\n",
            "            intermediate_frequency: \"#../../intermediate_frequency\"\n",
            "            correction_gain: 0\n",
            "            correction_phase: 0\n",
            "          gain: None\n",
            "  wiring: QuamDict\n",
            "    qubits: QuamDict\n",
            "      q0: QuamDict\n",
            "        port_I: ('con1', 3)\n",
            "        port_Q: ('con1', 4)\n",
            "        port_Z: ('con1', 5)\n",
            "      q1: QuamDict\n",
            "        port_I: ('con1', 6)\n",
            "        port_Q: ('con1', 7)\n",
            "        port_Z: ('con1', 8)\n",
            "    feedline: QuamDict\n",
            "      opx_output_I: ('con1', 1)\n",
            "      opx_output_Q: ('con1', 2)\n",
            "      opx_input_I: ('con1', 1)\n",
            "      opx_input_Q: ('con1', 2)\n"
          ]
        }
      ],
      "source": [
        "num_qubits = 2\n",
        "machine = Quam()\n",
        "machine.wiring = {\n",
        "    \"qubits\": {\n",
        "        f\"q{idx}\": {\n",
        "            \"port_I\": (\"con1\", 3 * idx + 3),\n",
        "            \"port_Q\": (\"con1\", 3 * idx + 4),\n",
        "            \"port_Z\": (\"con1\", 3 * idx + 5),\n",
        "        }\n",
        "        for idx in range(num_qubits)\n",
        "    },\n",
        "    \"feedline\": {\n",
        "        \"opx_output_I\": (\"con1\", 1),\n",
        "        \"opx_output_Q\": (\"con1\", 2),\n",
        "        \"opx_input_I\": (\"con1\", 1),\n",
        "        \"opx_input_Q\": (\"con1\", 2),\n",
        "    },\n",
        "}\n",
        "\n",
        "for idx in range(num_qubits):\n",
        "    # Create qubit components\n",
        "    transmon = Transmon(\n",
        "        id=idx,\n",
        "        xy=IQChannel(\n",
        "            opx_output_I=f\"#/wiring/qubits/q{idx}/port_I\",\n",
        "            opx_output_Q=f\"#/wiring/qubits/q{idx}/port_Q\",\n",
        "            frequency_converter_up=FrequencyConverter(\n",
        "                mixer=Mixer(),\n",
        "                local_oscillator=LocalOscillator(power=10, frequency=6e9),\n",
        "            ),\n",
        "            intermediate_frequency=100e6,\n",
        "        ),\n",
        "        z=SingleChannel(opx_output=f\"#/wiring/qubits/q{idx}/port_Z\"),\n",
        "    )\n",
        "    machine.qubits[transmon.name] = transmon\n",
        "    readout_resonator = InOutIQChannel(\n",
        "        id=idx,\n",
        "        opx_output_I=\"#/wiring/feedline/opx_output_I\",\n",
        "        opx_output_Q=\"#/wiring/feedline/opx_output_Q\",\n",
        "        opx_input_I=\"#/wiring/feedline/opx_input_I\",\n",
        "        opx_input_Q=\"#/wiring/feedline/opx_input_Q\",\n",
        "        frequency_converter_up=FrequencyConverter(\n",
        "            mixer=Mixer(), local_oscillator=LocalOscillator(power=10, frequency=6e9)\n",
        "        ),\n",
        "    )\n",
        "    transmon.resonator = readout_resonator\n",
        "\n",
        "machine.print_summary()"
      ]
    },
    {
      "cell_type": "markdown",
      "metadata": {},
      "source": [
        "We again save quam and the QUA config. The QUA config is identical to previous, but QUAM has changed significantly"
      ]
    },
    {
      "cell_type": "code",
      "execution_count": 9,
      "metadata": {},
      "outputs": [],
      "source": [
        "machine.save(root_folder / \"referenced\" / \"state.json\")"
      ]
    },
    {
      "cell_type": "code",
      "execution_count": 10,
      "metadata": {},
      "outputs": [],
      "source": [
        "qua_config = machine.generate_config()\n",
        "json.dump(qua_config, open(root_folder / \"referenced\" / \"qua_config.json\", \"w\"), indent=2)"
      ]
    },
    {
      "cell_type": "markdown",
      "metadata": {},
      "source": [
        "## Separating QUAM into Multiple Files"
      ]
    },
    {
      "cell_type": "markdown",
      "metadata": {},
      "source": [
        "Finally, we can also separate parts of QUAM to be placed into a separate file.\n",
        "This can be especially useful when combined with referencing because we can now have a separate file dedicated to the wiring of the experiment.\n",
        "\n",
        "Here we point quam to a folder instead of a json file, and we specify that `\"wiring\"` should go to a separate `wiring.json` file in that folder:"
      ]
    },
    {
      "cell_type": "code",
      "execution_count": 11,
      "metadata": {},
      "outputs": [],
      "source": [
        "machine.save(root_folder / \"referenced_multifile\" / \"quam\", content_mapping={\"wiring\": \"wiring.json\"})"
      ]
    },
    {
      "cell_type": "markdown",
      "metadata": {},
      "source": [
        "It can subseuently be loaded as usual"
      ]
    },
    {
      "cell_type": "code",
      "execution_count": 12,
      "metadata": {},
      "outputs": [],
      "source": [
        "machine = Quam.load(root_folder / \"referenced_multifile\" / \"quam\")"
      ]
    },
    {
      "cell_type": "markdown",
      "metadata": {},
      "source": [
        "Separating QUAM into multiple files allows the user to revert back to a previous QUAM but keep some parts the same.\n",
        "For example, the user may want to revert all experimental settings, but the wiring of the setup should of course not change."
      ]
    },
    {
      "cell_type": "markdown",
      "metadata": {},
      "source": []
    }
  ],
  "metadata": {
    "kernelspec": {
      "display_name": ".venv",
      "language": "python",
      "name": "python3"
    },
    "language_info": {
      "codemirror_mode": {
        "name": "ipython",
        "version": 3
      },
      "file_extension": ".py",
      "mimetype": "text/x-python",
      "name": "python",
      "nbconvert_exporter": "python",
      "pygments_lexer": "ipython3",
      "version": "3.12.3"
    },
    "orig_nbformat": 4
  },
  "nbformat": 4,
  "nbformat_minor": 2
}
