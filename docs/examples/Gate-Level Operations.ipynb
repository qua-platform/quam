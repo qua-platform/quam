{
  "cells": [
    {
      "cell_type": "markdown",
      "metadata": {},
      "source": [
        "# Gate Operations"
      ]
    },
    {
      "cell_type": "markdown",
      "metadata": {
        "lines_to_next_cell": 2
      },
      "source": [
        "In this guide, we introduce how to build circuit-level QUA programs by focusing on three core concepts:\n",
        "1. Defining qubits (or qubit pairs)\n",
        "2. Organizing them within a stateful container (the QUAM)\n",
        "3. Transforming pulse-level operations into gate-level operations.\n",
        "\n",
        "By the end of this tutorial, you will be able to construct a simple program of the form:\n",
        "```python\n",
        "with program() as prog:\n",
        "    X(q1)              # Single-qubit gate\n",
        "    clifford(q1, 4)    # Clifford gate from a predefined set\n",
        "    qubit_state = measure(q1)\n",
        "```\n",
        "This short snippet will apply specific gate operations to qubit q1 and then measure its state.\n",
        "\n",
        "Below is the outline of what we'll cover:\n",
        "- Defining a custom Transmon qubit class (inheriting from Qubit)\n",
        "- Creating a stateful QUAM container to hold multiple qubits or qubit pairs\n",
        "- Registering a qubit pulse macro (e.g., x180) and using it as a gate\n",
        "- Building custom macros for measurement and more complex gates (Cliffords)\n",
        "\n",
        "The goal is to clearly demonstrate the flow from hardware-level pulse definitions all the way to abstract, gate-level instructions in a QUA program."
      ]
    },
    {
      "cell_type": "markdown",
      "metadata": {},
      "source": [
        "## Defining a Qubit-Level Component"
      ]
    },
    {
      "cell_type": "markdown",
      "metadata": {},
      "source": [
        "We'll begin by importing all the modules we need. Then, we'll define a Transmon class that inherits from Qubit.\n",
        "In this example, a Transmon has an XY channel and an optional resonator channel for readout.\n",
        "\n",
        "Inheriting from Qubit allows us to attach hardware-specific parameters (like channels) and any additional properties\n",
        "relevant to our hardware setup."
      ]
    },
    {
      "cell_type": "code",
      "execution_count": 1,
      "metadata": {
        "lines_to_end_of_cell_marker": 0,
        "lines_to_next_cell": 1
      },
      "outputs": [
        {
          "name": "stdout",
          "output_type": "stream",
          "text": [
            "2025-03-31 19:28:57,239 - qm - INFO     - Starting session: b8fbbf60-cf4e-4d58-b481-e34d53690c36\n"
          ]
        }
      ],
      "source": [
        "from typing import Dict, Optional\n",
        "import numpy as np\n",
        "from dataclasses import field\n",
        "\n",
        "from quam.components.ports import FEMPortsContainer\n",
        "from quam.core import QuamRoot, quam_dataclass\n",
        "from quam.components.quantum_components import Qubit, QubitPair\n",
        "from quam.components import MWChannel, InOutMWChannel, pulses\n",
        "\n",
        "@quam_dataclass\n",
        "class Transmon(Qubit):\n",
        "    xy: MWChannel\n",
        "    resonator: Optional[InOutMWChannel] = None\n",
        "\n",
        "@quam_dataclass\n",
        "class Quam(QuamRoot):\n",
        "    ports: FEMPortsContainer\n",
        "    qubits: Dict[str, Qubit] = field(default_factory=dict)\n",
        "    qubit_pairs: Dict[str, QubitPair] = field(default_factory=dict)"
      ]
    },
    {
      "cell_type": "markdown",
      "metadata": {},
      "source": [
        "## Instantiate QUAM\n",
        "\n",
        "QUAM is our top-level container for organizing ports, qubits, and qubit pairs. We start by creating a Quam instance\n",
        "that includes a FEMPortsContainer, which helps route signals to and from the hardware.\n",
        "Then we add two Transmon qubits, \"q1\" and \"q2,\" referencing their microwave (MW) channels.\n",
        "These channels are used for generating pulses that interact with the qubits."
      ]
    },
    {
      "cell_type": "code",
      "execution_count": 2,
      "metadata": {},
      "outputs": [],
      "source": [
        "machine = Quam(ports=FEMPortsContainer())\n",
        "\n",
        "## Add qubits\n",
        "# Here we create the MW output and input ports for q1.\n",
        "q1_xy_port = machine.ports.get_mw_output(\"con1\", 1, 1, create=True)\n",
        "q1_resonator_out_port = machine.ports.get_mw_output(\"con1\", 1, 2, create=True)\n",
        "q1_resonator_in_port = machine.ports.get_mw_input(\"con1\", 1, 2, create=True)\n",
        "\n",
        "# Next, we instantiate q1 and specify its XY and resonator channels.\n",
        "q1 = machine.qubits[\"q1\"] = Transmon(\n",
        "    id=\"q1\",\n",
        "    xy=MWChannel(intermediate_frequency=100e6, opx_output=q1_xy_port.get_reference()),\n",
        "    resonator=InOutMWChannel(\n",
        "        intermediate_frequency=100e6,\n",
        "        opx_output=q1_resonator_out_port.get_reference(),\n",
        "        opx_input=q1_resonator_in_port.get_reference(),\n",
        "    ),\n",
        ")\n",
        "\n",
        "# We create another qubit, q2. Here, the resonator channel is omitted for brevity.\n",
        "q2_xy_mw_output = machine.ports.get_mw_output(\"con1\", 1, 2, create=True)\n",
        "q2 = machine.qubits[\"q2\"] = Transmon(\n",
        "    id=\"q2\",\n",
        "    xy=MWChannel(\n",
        "        intermediate_frequency=100e6, opx_output=q2_xy_mw_output.get_reference()\n",
        "    ),\n",
        ")"
      ]
    },
    {
      "cell_type": "code",
      "execution_count": 3,
      "id": "3abac8b0",
      "metadata": {},
      "outputs": [
        {
          "name": "stdout",
          "output_type": "stream",
          "text": [
            "q1: Transmon\n",
            "  id: \"q1\"\n",
            "  macros: QuamDict Empty\n",
            "  xy: MWChannel\n",
            "    operations: QuamDict Empty\n",
            "    id: None\n",
            "    digital_outputs: QuamDict Empty\n",
            "    sticky: None\n",
            "    intermediate_frequency: 100000000.0\n",
            "    thread: None\n",
            "    core: None\n",
            "    LO_frequency: \"#./upconverter_frequency\"\n",
            "    RF_frequency: \"#./inferred_RF_frequency\"\n",
            "    opx_output: \"#/ports/mw_outputs/con1/1/1\"\n",
            "    upconverter: 1\n",
            "  resonator: InOutMWChannel\n",
            "    operations: QuamDict Empty\n",
            "    id: None\n",
            "    digital_outputs: QuamDict Empty\n",
            "    sticky: None\n",
            "    intermediate_frequency: 100000000.0\n",
            "    thread: None\n",
            "    core: None\n",
            "    opx_input: \"#/ports/mw_inputs/con1/1/2\"\n",
            "    time_of_flight: 140\n",
            "    smearing: 0\n",
            "    LO_frequency: \"#./upconverter_frequency\"\n",
            "    RF_frequency: \"#./inferred_RF_frequency\"\n",
            "    opx_output: \"#/ports/mw_outputs/con1/1/2\"\n",
            "    upconverter: 1\n"
          ]
        }
      ],
      "source": [
        "# We can view a quick summary of a qubit's configuration:\n",
        "q1.print_summary()"
      ]
    },
    {
      "cell_type": "markdown",
      "metadata": {},
      "source": [
        "### Qubit pairs\n",
        "Qubit pairs provide an abstraction for interactions between two qubits.\n",
        "For example, you might need a specific gate that involves both a control qubit and a target qubit.\n",
        "Here, we create a pair named \"q1@q2\" which references q1 as control and q2 as target."
      ]
    },
    {
      "cell_type": "code",
      "execution_count": 4,
      "metadata": {},
      "outputs": [],
      "source": [
        "machine.qubit_pairs[\"q1@q2\"] = QubitPair(\n",
        "    qubit_control=q1.get_reference(), qubit_target=q2.get_reference()\n",
        ")"
      ]
    },
    {
      "cell_type": "code",
      "execution_count": 5,
      "id": "c52f2432",
      "metadata": {},
      "outputs": [
        {
          "data": {
            "text/plain": [
              "QubitPair(id='q1@q2', macros={}, qubit_control=Transmon(id='q1', macros={}, xy=MWChannel(operations={}, id=None, digital_outputs={}, sticky=None, intermediate_frequency=100000000.0, thread=None, core=None, LO_frequency=5000000000.0, RF_frequency=5100000000.0, opx_output=MWFEMAnalogOutputPort(controller_id='con1', fem_id=1, port_id=1, band=1, upconverter_frequency=5000000000.0, upconverters=None, delay=0, shareable=False, sampling_rate=1000000000.0, full_scale_power_dbm=-11), upconverter=1), resonator=InOutMWChannel(operations={}, id=None, digital_outputs={}, sticky=None, intermediate_frequency=100000000.0, thread=None, core=None, opx_input=MWFEMAnalogInputPort(controller_id='con1', fem_id=1, port_id=2, band=1, downconverter_frequency=5000000000.0, gain_db=None, sampling_rate=1000000000.0, shareable=False), time_of_flight=140, smearing=0, LO_frequency=5000000000.0, RF_frequency=5100000000.0, opx_output=MWFEMAnalogOutputPort(controller_id='con1', fem_id=1, port_id=2, band=1, upconverter_frequency=5000000000.0, upconverters=None, delay=0, shareable=False, sampling_rate=1000000000.0, full_scale_power_dbm=-11), upconverter=1)), qubit_target=Transmon(id='q2', macros={}, xy=MWChannel(operations={}, id=None, digital_outputs={}, sticky=None, intermediate_frequency=100000000.0, thread=None, core=None, LO_frequency=5000000000.0, RF_frequency=5100000000.0, opx_output=MWFEMAnalogOutputPort(controller_id='con1', fem_id=1, port_id=2, band=1, upconverter_frequency=5000000000.0, upconverters=None, delay=0, shareable=False, sampling_rate=1000000000.0, full_scale_power_dbm=-11), upconverter=1), resonator=None))"
            ]
          },
          "execution_count": 5,
          "metadata": {},
          "output_type": "execute_result"
        }
      ],
      "source": [
        "# You can then access this pair using:\n",
        "q1 @ q2"
      ]
    },
    {
      "cell_type": "markdown",
      "id": "91f7eac9",
      "metadata": {
        "lines_to_next_cell": 2
      },
      "source": [
        "A qubit pair can also be subclassed (similar to how Transmon subclasses Qubit)\n",
        "if you need extra functionality (e.g., controlling tunable couplers)."
      ]
    },
    {
      "cell_type": "markdown",
      "id": "6060f96d",
      "metadata": {},
      "source": [
        "## Transforming a Pulse into a Qubit Gate"
      ]
    },
    {
      "cell_type": "markdown",
      "id": "f60798a2",
      "metadata": {},
      "source": [
        "In QUAM, a common pattern is to define a pulse (e.g., a square pulse) and then wrap it in a macro class.\n",
        "This macro can be registered as a gate-level operation, allowing us to write high-level QUA code.\n",
        "\n",
        "For example, below we define an \"x180\" pulse (a typical pi rotation around the X axis)\n",
        "and then create a \"PulseMacro\". This macro is stored in \"q1.macros[\"X\"]\" so we can call it as a gate."
      ]
    },
    {
      "cell_type": "code",
      "execution_count": 6,
      "id": "e39d49d3",
      "metadata": {},
      "outputs": [
        {
          "name": "stdout",
          "output_type": "stream",
          "text": [
            "\n",
            "# Single QUA script generated at 2025-03-31 19:28:57.397848\n",
            "# QUA library version: 1.2.2a4\n",
            "\n",
            "from qm import CompilerOptionArguments\n",
            "from qm.qua import *\n",
            "\n",
            "with program() as prog:\n",
            "    play(\"x180\", \"q1.xy\")\n",
            "\n",
            "\n",
            "config = None\n",
            "\n",
            "loaded_config = None\n",
            "\n",
            "\n"
          ]
        }
      ],
      "source": [
        "from quam.components.macro import PulseMacro\n",
        "\n",
        "# Define the actual pulse — a simple square envelope with amplitude and duration.\n",
        "q1.xy.operations[\"x180\"] = pulses.SquarePulse(amplitude=0.2, length=100)\n",
        "\n",
        "# Wrap the pulse in a macro so it can be invoked as a logical gate.\n",
        "q1.macros[\"X\"] = PulseMacro(pulse=q1.xy.operations[\"x180\"].get_reference())\n",
        "\n",
        "# Now we can use this macro in a QUA program:\n",
        "from qm import generate_qua_script, qua\n",
        "\n",
        "with qua.program() as prog:\n",
        "    # Apply the X gate to q1. This calls the macro we just defined.\n",
        "    q1.apply(\"X\")\n",
        "\n",
        "# Print out the generated QUA code to see how it expands.\n",
        "print(generate_qua_script(prog))"
      ]
    },
    {
      "cell_type": "markdown",
      "metadata": {},
      "source": [
        "### Creating operations"
      ]
    },
    {
      "cell_type": "markdown",
      "id": "3afc32c7",
      "metadata": {},
      "source": [
        "To make a macro like \"X\" accessible as a gate-level operation in QUA,\n",
        "we use an OperationsRegistry. The registry maps gate names (like X) to the correct macro for each qubit."
      ]
    },
    {
      "cell_type": "code",
      "execution_count": 7,
      "id": "42a8d613",
      "metadata": {
        "lines_to_end_of_cell_marker": 0,
        "lines_to_next_cell": 1
      },
      "outputs": [],
      "source": [
        "from quam.core.operation import OperationsRegistry\n",
        "\n",
        "operations_registry = OperationsRegistry()\n",
        "\n",
        "@operations_registry.register_operation\n",
        "# The function name below becomes the gate-level call (e.g., X(q1)).\n",
        "# Note that internally, it will trigger the macro we assigned to \"q1.macros[\"X\"]\".\n",
        "def X(qubit: Qubit, **kwargs):\n",
        "    # Implementation is resolved by the macros attached to the qubit.\n",
        "    pass"
      ]
    },
    {
      "cell_type": "markdown",
      "metadata": {},
      "source": [
        "Now calling X(q1) in QUA code triggers the macro q1.macros[\"X\"]."
      ]
    },
    {
      "cell_type": "code",
      "execution_count": 8,
      "id": "c481a483",
      "metadata": {},
      "outputs": [
        {
          "name": "stdout",
          "output_type": "stream",
          "text": [
            "\n",
            "# Single QUA script generated at 2025-03-31 19:28:57.412244\n",
            "# QUA library version: 1.2.2a4\n",
            "\n",
            "from qm import CompilerOptionArguments\n",
            "from qm.qua import *\n",
            "\n",
            "with program() as prog:\n",
            "    play(\"x180\", \"q1.xy\")\n",
            "\n",
            "\n",
            "config = None\n",
            "\n",
            "loaded_config = None\n",
            "\n",
            "\n"
          ]
        }
      ],
      "source": [
        "with qua.program() as prog:\n",
        "    # This uses the registry to look up the correct macro.\n",
        "    X(q1)\n",
        "\n",
        "print(generate_qua_script(prog))"
      ]
    },
    {
      "cell_type": "markdown",
      "metadata": {},
      "source": [
        "## Creating custom macros"
      ]
    },
    {
      "cell_type": "markdown",
      "metadata": {},
      "source": [
        "Often, a gate corresponds to a single pulse, and \"PulseMacro\" is enough. But sometimes, a gate may require\n",
        "multiple pulses or more complex logic. In that case, we can define a custom macro by subclassing QubitMacro\n",
        "(or QubitPairMacro if it involves two qubits).\n",
        "\n",
        "Below, we create two macros as examples: a \"measure\" macro and a \"clifford\" macro.\n",
        "These illustrate how to embed logic into your macros and integrate them with the QUAM."
      ]
    },
    {
      "cell_type": "markdown",
      "id": "56dd5f9c",
      "metadata": {},
      "source": [
        "### Measure macro"
      ]
    },
    {
      "cell_type": "markdown",
      "metadata": {},
      "source": [
        "For the measure macro, we define a readout pulse on q1's resonator channel. The macro itself, when called,\n",
        "plays that pulse, reads I/Q data, and assigns a boolean state based on a threshold."
      ]
    },
    {
      "cell_type": "code",
      "execution_count": 9,
      "metadata": {},
      "outputs": [],
      "source": [
        "q1.resonator.operations[\"readout\"] = pulses.SquareReadoutPulse(\n",
        "    length=1000, amplitude=0.1, threshold=0.215\n",
        ")"
      ]
    },
    {
      "cell_type": "code",
      "execution_count": 10,
      "id": "27da1d83",
      "metadata": {
        "lines_to_end_of_cell_marker": 0,
        "lines_to_next_cell": 1
      },
      "outputs": [],
      "source": [
        "from quam.components.macro import QubitMacro\n",
        "from quam.utils.qua_types import QuaVariableBool\n",
        "\n",
        "@quam_dataclass\n",
        "class MeasureMacro(QubitMacro):\n",
        "    threshold: float\n",
        "\n",
        "    def apply(self, **kwargs) -> QuaVariableBool:\n",
        "        # The macro reads I/Q data from the resonator channel.\n",
        "        I, Q = self.qubit.resonator.measure(\"readout\")\n",
        "        # We declare a QUA variable to store the boolean result of thresholding the I value.\n",
        "        qubit_state = qua.declare(bool)\n",
        "        qua.assign(qubit_state, I > self.threshold)\n",
        "        return qubit_state"
      ]
    },
    {
      "cell_type": "code",
      "execution_count": 11,
      "id": "cd34838a",
      "metadata": {},
      "outputs": [],
      "source": [
        "# We attach an instance of this MeasureMacro to our qubit q1.\n",
        "q1.macros[\"measure\"] = MeasureMacro(threshold=0.215)"
      ]
    },
    {
      "cell_type": "markdown",
      "metadata": {},
      "source": [
        "Now we can perform the \"measure\" operation within a QUA program:"
      ]
    },
    {
      "cell_type": "code",
      "execution_count": 12,
      "metadata": {
        "lines_to_end_of_cell_marker": 0,
        "lines_to_next_cell": 1
      },
      "outputs": [
        {
          "name": "stdout",
          "output_type": "stream",
          "text": [
            "\n",
            "# Single QUA script generated at 2025-03-31 19:28:57.445853\n",
            "# QUA library version: 1.2.2a4\n",
            "\n",
            "from qm import CompilerOptionArguments\n",
            "from qm.qua import *\n",
            "\n",
            "with program() as prog:\n",
            "    v1 = declare(fixed, )\n",
            "    v2 = declare(fixed, )\n",
            "    v3 = declare(bool, )\n",
            "    measure(\"readout\", \"q1.resonator\", dual_demod.full(\"iw1\", \"iw2\", v1), dual_demod.full(\"iw3\", \"iw1\", v2))\n",
            "    assign(v3, (v1>0.215))\n",
            "\n",
            "\n",
            "config = None\n",
            "\n",
            "loaded_config = None\n",
            "\n",
            "\n"
          ]
        }
      ],
      "source": [
        "with qua.program() as prog:\n",
        "    qubit_state = q1.apply(\"measure\")  # returns a boolean variable\n",
        "\n",
        "print(generate_qua_script(prog))"
      ]
    },
    {
      "cell_type": "markdown",
      "metadata": {},
      "source": [
        "Similar to the X gate, we can register a generic measure() operation:"
      ]
    },
    {
      "cell_type": "code",
      "execution_count": 13,
      "metadata": {
        "lines_to_next_cell": 1
      },
      "outputs": [],
      "source": [
        "@operations_registry.register_operation\n",
        "def measure(qubit: Qubit, **kwargs) -> QuaVariableBool:\n",
        "    pass"
      ]
    },
    {
      "cell_type": "markdown",
      "metadata": {},
      "source": [
        "This lets us call measure(q1) in a gate-like manner:"
      ]
    },
    {
      "cell_type": "code",
      "execution_count": 14,
      "id": "ace53838",
      "metadata": {},
      "outputs": [
        {
          "name": "stdout",
          "output_type": "stream",
          "text": [
            "\n",
            "# Single QUA script generated at 2025-03-31 19:28:57.463403\n",
            "# QUA library version: 1.2.2a4\n",
            "\n",
            "from qm import CompilerOptionArguments\n",
            "from qm.qua import *\n",
            "\n",
            "with program() as prog:\n",
            "    v1 = declare(fixed, )\n",
            "    v2 = declare(fixed, )\n",
            "    v3 = declare(bool, )\n",
            "    measure(\"readout\", \"q1.resonator\", dual_demod.full(\"iw1\", \"iw2\", v1), dual_demod.full(\"iw3\", \"iw1\", v2))\n",
            "    assign(v3, (v1>0.215))\n",
            "\n",
            "\n",
            "config = None\n",
            "\n",
            "loaded_config = None\n",
            "\n",
            "\n"
          ]
        }
      ],
      "source": [
        "with qua.program() as prog:\n",
        "    qubit_state = measure(q1)\n",
        "\n",
        "print(generate_qua_script(prog))"
      ]
    },
    {
      "cell_type": "markdown",
      "id": "9c053dae",
      "metadata": {},
      "source": [
        "### Clifford macro"
      ]
    },
    {
      "cell_type": "markdown",
      "metadata": {},
      "source": [
        "Next, we define a single-qubit \"CliffordMacro\". For illustration, we will define a few pulses\n",
        "that correspond to some of the first five Clifford gates."
      ]
    },
    {
      "cell_type": "code",
      "execution_count": 15,
      "metadata": {
        "lines_to_next_cell": 1
      },
      "outputs": [],
      "source": [
        "# Define additional pulses for x90, x180, y90, y180, etc.\n",
        "q1.xy.operations[\"x90\"] = pulses.SquarePulse(amplitude=0.1, length=100, axis_angle=0)\n",
        "q1.xy.operations[\"x180\"] = pulses.SquarePulse(amplitude=0.2, length=100, axis_angle=0)\n",
        "q1.xy.operations[\"y90\"] = pulses.SquarePulse(amplitude=0.1, length=100, axis_angle=np.pi / 2)\n",
        "q1.xy.operations[\"y180\"] = pulses.SquarePulse(amplitude=0.2, length=100, axis_angle=np.pi / 2)"
      ]
    },
    {
      "cell_type": "code",
      "execution_count": 16,
      "id": "da60a094",
      "metadata": {},
      "outputs": [
        {
          "name": "stdout",
          "output_type": "stream",
          "text": [
            "\n",
            "# Single QUA script generated at 2025-03-31 19:28:57.498716\n",
            "# QUA library version: 1.2.2a4\n",
            "\n",
            "from qm import CompilerOptionArguments\n",
            "from qm.qua import *\n",
            "\n",
            "with program() as prog:\n",
            "    v1 = declare(int, value=0)\n",
            "    with if_((v1==0), unsafe=True):\n",
            "        wait(25, \"q1.xy\")\n",
            "    with elif_((v1==1)):\n",
            "        play(\"x180\", \"q1.xy\")\n",
            "    with elif_((v1==2)):\n",
            "        play(\"y180\", \"q1.xy\")\n",
            "    with elif_((v1==3)):\n",
            "        play(\"y180\", \"q1.xy\")\n",
            "        play(\"x180\", \"q1.xy\")\n",
            "    with elif_((v1==4)):\n",
            "        play(\"x90\", \"q1.xy\")\n",
            "        play(\"y90\", \"q1.xy\")\n",
            "\n",
            "\n",
            "config = None\n",
            "\n",
            "loaded_config = None\n",
            "\n",
            "\n",
            "\n",
            "# Single QUA script generated at 2025-03-31 19:28:57.522055\n",
            "# QUA library version: 1.2.2a4\n",
            "\n",
            "from qm import CompilerOptionArguments\n",
            "from qm.qua import *\n",
            "\n",
            "with program() as prog:\n",
            "    v1 = declare(int, value=0)\n",
            "    with if_((v1==0), unsafe=True):\n",
            "        wait(25, \"q1.xy\")\n",
            "    with elif_((v1==1)):\n",
            "        play(\"x180\", \"q1.xy\")\n",
            "    with elif_((v1==2)):\n",
            "        play(\"y180\", \"q1.xy\")\n",
            "    with elif_((v1==3)):\n",
            "        play(\"y180\", \"q1.xy\")\n",
            "        play(\"x180\", \"q1.xy\")\n",
            "    with elif_((v1==4)):\n",
            "        play(\"x90\", \"q1.xy\")\n",
            "        play(\"y90\", \"q1.xy\")\n",
            "\n",
            "\n",
            "config = None\n",
            "\n",
            "loaded_config = None\n",
            "\n",
            "\n"
          ]
        }
      ],
      "source": [
        "@quam_dataclass\n",
        "class CliffordMacro(QubitMacro):\n",
        "    def apply(self, clifford_idx: int, **kwargs):\n",
        "        # We use a QUA switch_ statement to choose which pulses to play in real time.\n",
        "        with qua.switch_(clifford_idx, unsafe=True):\n",
        "            with qua.case_(0):\n",
        "                # Identity operation: do nothing except wait to preserve timing.\n",
        "                wait_duration = self.qubit.xy.operations[\"x180\"].length // 4\n",
        "                self.qubit.xy.wait(wait_duration)\n",
        "            with qua.case_(1):\n",
        "                self.qubit.xy.play(\"x180\")\n",
        "            with qua.case_(2):\n",
        "                self.qubit.xy.play(\"y180\")\n",
        "            with qua.case_(3):\n",
        "                self.qubit.xy.play(\"y180\")\n",
        "                self.qubit.xy.play(\"x180\")\n",
        "            with qua.case_(4):\n",
        "                # This is a composite gate (x90 followed by y90)\n",
        "                self.qubit.xy.play(\"x90\")\n",
        "                self.qubit.xy.play(\"y90\")\n",
        "            # You can continue defining more Clifford cases here...\n",
        "\n",
        "# Attach the macro to q1\n",
        "q1.macros[\"clifford\"] = CliffordMacro()\n",
        "\n",
        "# We can now call this macro using q1.apply(\"clifford\", clifford_idx):\n",
        "\n",
        "with qua.program() as prog:\n",
        "    clifford_idx = qua.declare(int, 0)\n",
        "    q1.apply(\"clifford\", clifford_idx)\n",
        "\n",
        "print(generate_qua_script(prog))\n",
        "\n",
        "# As before, we register a qubit-generic function:\n",
        "\n",
        "@operations_registry.register_operation\n",
        "def clifford(qubit: Qubit, clifford_idx: int, **kwargs):\n",
        "    pass\n",
        "\n",
        "# Now we can call clifford(q1, clifford_idx) in our QUA program:\n",
        "\n",
        "with qua.program() as prog:\n",
        "    clifford_idx = qua.declare(int, 0)\n",
        "    clifford(q1, clifford_idx)\n",
        "\n",
        "print(generate_qua_script(prog))"
      ]
    }
  ],
  "metadata": {
    "jupytext": {
      "formats": "ipynb,py"
    },
    "kernelspec": {
      "display_name": ".venv",
      "language": "python",
      "name": "python3"
    },
    "language_info": {
      "codemirror_mode": {
        "name": "ipython",
        "version": 3
      },
      "file_extension": ".py",
      "mimetype": "text/x-python",
      "name": "python",
      "nbconvert_exporter": "python",
      "pygments_lexer": "ipython3",
      "version": "3.11.11"
    }
  },
  "nbformat": 4,
  "nbformat_minor": 2
}
